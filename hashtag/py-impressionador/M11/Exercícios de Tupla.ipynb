{
 "cells": [
  {
   "cell_type": "markdown",
   "metadata": {},
   "source": [
    "# Exercícios\n",
    "\n",
    "São exercícios bem parecidos com os que fizemos com listas. Mas na tupla, podemos não só trabalhar com índices, mas fazer o \"unpacking\" das tuplas, o que pode facilitar nossos códigos.\n",
    "\n",
    "## 1. Análise de Vendas\n",
    "\n",
    "Nesse exercício vamos fazer uma \"análise simples\" de atingimento de Meta.\n",
    "\n",
    "Temos uma lista com os vendedores e os valores de vendas e queremos identificar (printar) quais os vendedores que bateram a meta e qual foi o valor que eles venderam."
   ]
  },
  {
   "cell_type": "code",
   "execution_count": 17,
   "metadata": {},
   "outputs": [
    {
     "name": "stdout",
     "output_type": "stream",
     "text": [
      "João bateu a meta, ao vender 15000\n",
      "Julia bateu a meta, ao vender 27000\n",
      "Ana bateu a meta, ao vender 10300\n"
     ]
    }
   ],
   "source": [
    "meta = 10000\n",
    "vendas = [\n",
    "    ('João', 15000),\n",
    "    ('Julia', 27000),\n",
    "    ('Marcus', 9900),\n",
    "    ('Maria', 3750),\n",
    "    ('Ana', 10300),\n",
    "    ('Alon', 7870),\n",
    "]\n",
    "\n",
    "print(*[f'{nome} bateu a meta, ao vender {vendeu}' for nome, vendeu in vendas if vendeu >= meta], sep='\\n')\n"
   ]
  },
  {
   "cell_type": "markdown",
   "metadata": {},
   "source": [
    "## 2. Comparação com Ano Anterior\n",
    "\n",
    "Digamos que você está analisando as vendas de produtos de um ecommerce e quer identificar quais produtos tiveram no ano de 2020 mais vendas do que no ano de 2019, para reportar isso para a diretoria.\n",
    "\n",
    "Sua resposta pode ser um print de cada produto, qual foi a venda de 2019, a venda de 2020 e o % de crescimento de 2020 para 2019.\n",
    "\n",
    "Lembrando, para calcular o % de crescimento de um produto de um ano para o outro, podemos fazer: (venda2020/venda2019 - 1)\n",
    "\n",
    "A lógica da tupla é: (produto, vendas2019, vendas2020)"
   ]
  },
  {
   "cell_type": "code",
   "execution_count": 34,
   "metadata": {},
   "outputs": [
    {
     "name": "stdout",
     "output_type": "stream",
     "text": [
      "Produto iphone em 2019 vendido 558147 em 2020 vendido 951642 o crescimento foi de 70.5%\n",
      "Produto tv em 2019 vendido 405252 em 2020 vendido 787604 o crescimento foi de 94.3%\n",
      "Produto máquina de café em 2019 vendido 718654 em 2020 vendido 867660 o crescimento foi de 20.7%\n",
      "Produto notebook dell em 2019 vendido 422760 em 2020 vendido 694913 o crescimento foi de 64.4%\n",
      "Produto notebook hp em 2019 vendido 154753 em 2020 vendido 539704 o crescimento foi de 248.8%\n",
      "Produto microsoft surface em 2019 vendido 438508 em 2020 vendido 667179 o crescimento foi de 52.1%\n",
      "Produto webcam em 2019 vendido 237467 em 2020 vendido 295633 o crescimento foi de 24.5%\n",
      "Produto caixa de som em 2019 vendido 489705 em 2020 vendido 725316 o crescimento foi de 48.1%\n",
      "Produto microfone em 2019 vendido 328311 em 2020 vendido 644622 o crescimento foi de 96.3%\n",
      "Produto câmera canon em 2019 vendido 591120 em 2020 vendido 994303 o crescimento foi de 68.2%\n"
     ]
    }
   ],
   "source": [
    "vendas_produtos = [('iphone', 558147, 951642), \n",
    "                   ('galaxy', 712350, 244295), \n",
    "                   ('ipad', 573823, 26964), \n",
    "                   ('tv', 405252, 787604), \n",
    "                   ('máquina de café', 718654, 867660), \n",
    "                   ('kindle', 531580, 78830), \n",
    "                   ('geladeira', 973139, 710331), \n",
    "                   ('adega', 892292, 646016), \n",
    "                   ('notebook dell', 422760, 694913), \n",
    "                   ('notebook hp', 154753, 539704), \n",
    "                   ('notebook asus', 887061, 324831), \n",
    "                   ('microsoft surface', 438508, 667179), \n",
    "                   ('webcam', 237467, 295633), \n",
    "                   ('caixa de som', 489705, 725316), \n",
    "                   ('microfone', 328311, 644622), \n",
    "                   ('câmera canon', 591120, 994303)]\n",
    "\n",
    "print(*[f'Produto {produto} em 2019 vendido {venda2019} em 2020 vendido {venda2020} o crescimento foi de {(venda2020 / venda2019 - 1):.1%}' for produto, venda2019, venda2020 in vendas_produtos if venda2020 > venda2019], sep='\\n')"
   ]
  }
 ],
 "metadata": {
  "kernelspec": {
   "display_name": "venv",
   "language": "python",
   "name": "python3"
  },
  "language_info": {
   "codemirror_mode": {
    "name": "ipython",
    "version": 3
   },
   "file_extension": ".py",
   "mimetype": "text/x-python",
   "name": "python",
   "nbconvert_exporter": "python",
   "pygments_lexer": "ipython3",
   "version": "3.12.3"
  }
 },
 "nbformat": 4,
 "nbformat_minor": 4
}
